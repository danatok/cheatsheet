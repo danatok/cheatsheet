{
 "cells": [
  {
   "cell_type": "code",
   "execution_count": 33,
   "metadata": {},
   "outputs": [],
   "source": [
    "import pandas as pd\n",
    "import time\n",
    "from selenium.webdriver import Chrome\n",
    "from selenium.webdriver.common.keys import Keys"
   ]
  },
  {
   "cell_type": "code",
   "execution_count": 22,
   "metadata": {},
   "outputs": [],
   "source": [
    "#from shutil import which\n",
    "#chrome_path = which(\"chromedriver\")\n",
    "from selenium import webdriver\n",
    "from webdriver_manager.chrome import ChromeDriverManager\n",
    "\n",
    "driver = webdriver.Chrome(executable_path=\"C:/Users/Dana/Desktop/selenium_basics/chromedriver.exe\")"
   ]
  },
  {
   "cell_type": "code",
   "execution_count": 23,
   "metadata": {},
   "outputs": [],
   "source": [
    "driver.get(\"https://instagram.com\")"
   ]
  },
  {
   "cell_type": "code",
   "execution_count": 27,
   "metadata": {},
   "outputs": [],
   "source": [
    "#Putting password\n",
    "#search_btn = driver.find_element_by_class_name(\"_2hvTZ pexuQ zyHYP\")\n",
    "#driver.find_by_class_name() or tag_name(\"h1\") or by_xpath() or css_selector\n",
    "#driver.find_elements_by_css_selector(\"[aria-label=\"Phone number, username, or email\"]\")\n",
    "#search_btn.send_keys(\"danatokmurzina\")//*[@id=\"react-root\"]/section/main/article/div[2]/div[1]/div/form/div[2]/div/label/input"
   ]
  },
  {
   "cell_type": "markdown",
   "metadata": {},
   "source": [
    "Sign-in"
   ]
  },
  {
   "cell_type": "code",
   "execution_count": 29,
   "metadata": {},
   "outputs": [],
   "source": [
    "emailInput = driver.find_elements_by_css_selector('form input')[0]\n",
    "passwordInput = driver.find_elements_by_css_selector('form input')[1]"
   ]
  },
  {
   "cell_type": "code",
   "execution_count": 31,
   "metadata": {},
   "outputs": [],
   "source": [
    "email = 'danatokmurzina'\n",
    "password = '*****'"
   ]
  },
  {
   "cell_type": "code",
   "execution_count": 32,
   "metadata": {},
   "outputs": [],
   "source": [
    "#Selenium will write the email and the password in the corresponding <input>\n",
    "emailInput.send_keys(email)\n",
    "passwordInput.send_keys(password)"
   ]
  },
  {
   "cell_type": "code",
   "execution_count": 34,
   "metadata": {},
   "outputs": [],
   "source": [
    "#Hit enter\n",
    "passwordInput.send_keys(Keys.ENTER)"
   ]
  },
  {
   "cell_type": "markdown",
   "metadata": {},
   "source": [
    "Let's follow people"
   ]
  },
  {
   "cell_type": "code",
   "execution_count": 46,
   "metadata": {},
   "outputs": [],
   "source": [
    "def followWithUsername(username):\n",
    "        driver.get('https://www.instagram.com/' + username + '/')\n",
    "        time.sleep(2) # not necessary\n",
    "        followButton = driver.find_element_by_css_selector('button')\n",
    "        if (followButton.text != 'Following'):\n",
    "            followButton.click()\n",
    "            time.sleep(2)\n",
    "        else:\n",
    "            print(\"You are already following this user\")"
   ]
  },
  {
   "cell_type": "code",
   "execution_count": 47,
   "metadata": {},
   "outputs": [],
   "source": [
    "followWithUsername('pp.lifetime')"
   ]
  },
  {
   "cell_type": "code",
   "execution_count": 49,
   "metadata": {},
   "outputs": [],
   "source": [
    "followButton = driver.find_element_by_css_selector('button')\n",
    "if (followButton.text == 'Cancel'):\n",
    "            followButton.click()"
   ]
  },
  {
   "cell_type": "code",
   "execution_count": 51,
   "metadata": {},
   "outputs": [],
   "source": [
    "username = 'pp.lifetime'\n",
    "driver.get('https://www.instagram.com/' + username + '/')"
   ]
  },
  {
   "cell_type": "code",
   "execution_count": 44,
   "metadata": {},
   "outputs": [
    {
     "data": {
      "text/plain": [
       "[]"
      ]
     },
     "execution_count": 44,
     "metadata": {},
     "output_type": "execute_result"
    }
   ],
   "source": [
    "driver.find_elements_by_tag_name('пп')"
   ]
  },
  {
   "cell_type": "code",
   "execution_count": null,
   "metadata": {},
   "outputs": [],
   "source": []
  },
  {
   "cell_type": "code",
   "execution_count": null,
   "metadata": {},
   "outputs": [],
   "source": []
  },
  {
   "cell_type": "code",
   "execution_count": null,
   "metadata": {},
   "outputs": [],
   "source": []
  },
  {
   "cell_type": "code",
   "execution_count": 37,
   "metadata": {},
   "outputs": [
    {
     "data": {
      "text/plain": [
       "[<selenium.webdriver.remote.webelement.WebElement (session=\"3e92bb86ac9fcfba1aa14ede118bce17\", element=\"43f24a52-836d-4145-bc0b-9f491ec64110\")>,\n",
       " <selenium.webdriver.remote.webelement.WebElement (session=\"3e92bb86ac9fcfba1aa14ede118bce17\", element=\"0aa93528-f422-4c46-a54a-5615e66733db\")>,\n",
       " <selenium.webdriver.remote.webelement.WebElement (session=\"3e92bb86ac9fcfba1aa14ede118bce17\", element=\"84c1a724-73e3-4db0-9c0b-af619d96f45a\")>,\n",
       " <selenium.webdriver.remote.webelement.WebElement (session=\"3e92bb86ac9fcfba1aa14ede118bce17\", element=\"6a1a0e91-51c6-4ff5-a249-b8956106b0fb\")>,\n",
       " <selenium.webdriver.remote.webelement.WebElement (session=\"3e92bb86ac9fcfba1aa14ede118bce17\", element=\"76367efd-fbf2-433e-9993-7b60c25ec465\")>,\n",
       " <selenium.webdriver.remote.webelement.WebElement (session=\"3e92bb86ac9fcfba1aa14ede118bce17\", element=\"c0cb5e13-4433-4f5e-ab85-4c14ee8fd570\")>,\n",
       " <selenium.webdriver.remote.webelement.WebElement (session=\"3e92bb86ac9fcfba1aa14ede118bce17\", element=\"42e57e80-b8ce-42f8-95a4-67e2276a4b6c\")>,\n",
       " <selenium.webdriver.remote.webelement.WebElement (session=\"3e92bb86ac9fcfba1aa14ede118bce17\", element=\"5f290a2c-ead8-4436-84be-6d41f6605b0f\")>,\n",
       " <selenium.webdriver.remote.webelement.WebElement (session=\"3e92bb86ac9fcfba1aa14ede118bce17\", element=\"a17473be-6d27-42d2-a94c-223aee7c7221\")>,\n",
       " <selenium.webdriver.remote.webelement.WebElement (session=\"3e92bb86ac9fcfba1aa14ede118bce17\", element=\"571c9939-85b3-4f91-9836-36d2ad76e801\")>,\n",
       " <selenium.webdriver.remote.webelement.WebElement (session=\"3e92bb86ac9fcfba1aa14ede118bce17\", element=\"d3859301-8ab0-43d9-b68d-aa8961d3061c\")>,\n",
       " <selenium.webdriver.remote.webelement.WebElement (session=\"3e92bb86ac9fcfba1aa14ede118bce17\", element=\"60171aa9-4240-4a4b-bc01-94b29d471eea\")>,\n",
       " <selenium.webdriver.remote.webelement.WebElement (session=\"3e92bb86ac9fcfba1aa14ede118bce17\", element=\"1d4e21f2-c95a-47ff-9c9b-c437d20ea495\")>,\n",
       " <selenium.webdriver.remote.webelement.WebElement (session=\"3e92bb86ac9fcfba1aa14ede118bce17\", element=\"fe066ddb-301e-4f6d-981e-600b45452480\")>,\n",
       " <selenium.webdriver.remote.webelement.WebElement (session=\"3e92bb86ac9fcfba1aa14ede118bce17\", element=\"77950080-cc68-4ec0-973b-4b38babb5dcc\")>,\n",
       " <selenium.webdriver.remote.webelement.WebElement (session=\"3e92bb86ac9fcfba1aa14ede118bce17\", element=\"6dbecc3c-839c-4cfa-9bc6-b28c59d4d7d9\")>,\n",
       " <selenium.webdriver.remote.webelement.WebElement (session=\"3e92bb86ac9fcfba1aa14ede118bce17\", element=\"f2e2d34e-f85a-4770-9ac9-0dfb4ee06fdf\")>,\n",
       " <selenium.webdriver.remote.webelement.WebElement (session=\"3e92bb86ac9fcfba1aa14ede118bce17\", element=\"3a9247f1-76be-4b55-be72-5ee38d442c69\")>,\n",
       " <selenium.webdriver.remote.webelement.WebElement (session=\"3e92bb86ac9fcfba1aa14ede118bce17\", element=\"01c04041-08cb-42ae-981c-0ca567f6ce9b\")>,\n",
       " <selenium.webdriver.remote.webelement.WebElement (session=\"3e92bb86ac9fcfba1aa14ede118bce17\", element=\"8ad150c2-25be-41e5-98e6-4d5f30265603\")>,\n",
       " <selenium.webdriver.remote.webelement.WebElement (session=\"3e92bb86ac9fcfba1aa14ede118bce17\", element=\"cf56dc6c-10bd-4805-a7d9-b6caba4363f8\")>,\n",
       " <selenium.webdriver.remote.webelement.WebElement (session=\"3e92bb86ac9fcfba1aa14ede118bce17\", element=\"7909f36f-64f7-4f84-8d05-5164ef7d3bbc\")>,\n",
       " <selenium.webdriver.remote.webelement.WebElement (session=\"3e92bb86ac9fcfba1aa14ede118bce17\", element=\"7d192ffb-1d59-48af-bbdc-7bb89e0731b0\")>,\n",
       " <selenium.webdriver.remote.webelement.WebElement (session=\"3e92bb86ac9fcfba1aa14ede118bce17\", element=\"773c7a4e-9d65-47b8-8529-a05248cb93ce\")>,\n",
       " <selenium.webdriver.remote.webelement.WebElement (session=\"3e92bb86ac9fcfba1aa14ede118bce17\", element=\"3ceeab75-5648-4b8c-acc8-041d796f72f3\")>,\n",
       " <selenium.webdriver.remote.webelement.WebElement (session=\"3e92bb86ac9fcfba1aa14ede118bce17\", element=\"d48df1fc-a9a5-41f0-8ec0-e5fb447b737d\")>,\n",
       " <selenium.webdriver.remote.webelement.WebElement (session=\"3e92bb86ac9fcfba1aa14ede118bce17\", element=\"6072c7ed-027e-4aaf-a74f-3278d9f79490\")>,\n",
       " <selenium.webdriver.remote.webelement.WebElement (session=\"3e92bb86ac9fcfba1aa14ede118bce17\", element=\"850dfe86-36e8-4b70-9dbd-55d30c06d468\")>,\n",
       " <selenium.webdriver.remote.webelement.WebElement (session=\"3e92bb86ac9fcfba1aa14ede118bce17\", element=\"9cb246d2-0e89-4649-ba33-48e2a9b23702\")>,\n",
       " <selenium.webdriver.remote.webelement.WebElement (session=\"3e92bb86ac9fcfba1aa14ede118bce17\", element=\"53a38bb7-f58d-4f3a-a260-608c6c4e5529\")>,\n",
       " <selenium.webdriver.remote.webelement.WebElement (session=\"3e92bb86ac9fcfba1aa14ede118bce17\", element=\"3afa0358-50f5-4689-bb6d-fd1ebd81df2f\")>,\n",
       " <selenium.webdriver.remote.webelement.WebElement (session=\"3e92bb86ac9fcfba1aa14ede118bce17\", element=\"e30b2a1b-a819-441a-a6c4-bc54f6941306\")>,\n",
       " <selenium.webdriver.remote.webelement.WebElement (session=\"3e92bb86ac9fcfba1aa14ede118bce17\", element=\"ebe89927-8021-4b53-99bd-d24a86734b93\")>,\n",
       " <selenium.webdriver.remote.webelement.WebElement (session=\"3e92bb86ac9fcfba1aa14ede118bce17\", element=\"ef9d8df1-93a5-4510-823c-81125b46a8f0\")>,\n",
       " <selenium.webdriver.remote.webelement.WebElement (session=\"3e92bb86ac9fcfba1aa14ede118bce17\", element=\"e53c5904-f531-46d3-825e-3098b4162ad2\")>,\n",
       " <selenium.webdriver.remote.webelement.WebElement (session=\"3e92bb86ac9fcfba1aa14ede118bce17\", element=\"e8ff0575-7871-4398-9f60-6f616fd5bb96\")>,\n",
       " <selenium.webdriver.remote.webelement.WebElement (session=\"3e92bb86ac9fcfba1aa14ede118bce17\", element=\"c0a624d7-baf5-4607-aac9-faff11ab2b99\")>,\n",
       " <selenium.webdriver.remote.webelement.WebElement (session=\"3e92bb86ac9fcfba1aa14ede118bce17\", element=\"3897df0e-324f-4376-a734-1698fc655c89\")>,\n",
       " <selenium.webdriver.remote.webelement.WebElement (session=\"3e92bb86ac9fcfba1aa14ede118bce17\", element=\"b23e54b9-b377-424a-911c-d02bb85fa123\")>,\n",
       " <selenium.webdriver.remote.webelement.WebElement (session=\"3e92bb86ac9fcfba1aa14ede118bce17\", element=\"45c5a0e0-70ed-4e75-9eee-fe14c64e2b36\")>,\n",
       " <selenium.webdriver.remote.webelement.WebElement (session=\"3e92bb86ac9fcfba1aa14ede118bce17\", element=\"855799ce-8b75-4fbf-8c9b-341b1fdecc84\")>,\n",
       " <selenium.webdriver.remote.webelement.WebElement (session=\"3e92bb86ac9fcfba1aa14ede118bce17\", element=\"a05ac1d8-bcca-48a7-8739-b3c7b2d1faaf\")>,\n",
       " <selenium.webdriver.remote.webelement.WebElement (session=\"3e92bb86ac9fcfba1aa14ede118bce17\", element=\"ce6cafeb-4485-4dfc-b908-922a2e8ab905\")>,\n",
       " <selenium.webdriver.remote.webelement.WebElement (session=\"3e92bb86ac9fcfba1aa14ede118bce17\", element=\"6cd699c9-b72c-4d61-867e-62a5754eef09\")>,\n",
       " <selenium.webdriver.remote.webelement.WebElement (session=\"3e92bb86ac9fcfba1aa14ede118bce17\", element=\"23c51241-8894-4f8f-92ee-a575d9465a61\")>,\n",
       " <selenium.webdriver.remote.webelement.WebElement (session=\"3e92bb86ac9fcfba1aa14ede118bce17\", element=\"d296da0e-8620-4796-b529-7d7944d43669\")>,\n",
       " <selenium.webdriver.remote.webelement.WebElement (session=\"3e92bb86ac9fcfba1aa14ede118bce17\", element=\"ad0b9a80-80a6-4c60-b215-a6cb2d4a4fd5\")>,\n",
       " <selenium.webdriver.remote.webelement.WebElement (session=\"3e92bb86ac9fcfba1aa14ede118bce17\", element=\"f13f2265-68c4-4a1b-990a-7a0491619fee\")>,\n",
       " <selenium.webdriver.remote.webelement.WebElement (session=\"3e92bb86ac9fcfba1aa14ede118bce17\", element=\"a2e25903-db1f-4ed1-9f8e-6127fe5d77f4\")>,\n",
       " <selenium.webdriver.remote.webelement.WebElement (session=\"3e92bb86ac9fcfba1aa14ede118bce17\", element=\"e063248c-1348-40c3-ad25-7f254d9161e1\")>,\n",
       " <selenium.webdriver.remote.webelement.WebElement (session=\"3e92bb86ac9fcfba1aa14ede118bce17\", element=\"81fdecc6-db19-41bd-91af-91809641d4dd\")>,\n",
       " <selenium.webdriver.remote.webelement.WebElement (session=\"3e92bb86ac9fcfba1aa14ede118bce17\", element=\"25e74350-b174-4f58-a8c3-01566d17e49c\")>,\n",
       " <selenium.webdriver.remote.webelement.WebElement (session=\"3e92bb86ac9fcfba1aa14ede118bce17\", element=\"aa5fede3-e440-4d0f-b2f3-e57f47457d1e\")>,\n",
       " <selenium.webdriver.remote.webelement.WebElement (session=\"3e92bb86ac9fcfba1aa14ede118bce17\", element=\"41168605-511d-4632-9659-9dae343d7665\")>,\n",
       " <selenium.webdriver.remote.webelement.WebElement (session=\"3e92bb86ac9fcfba1aa14ede118bce17\", element=\"c70699fd-a0c5-4523-843f-afd19fa4cc96\")>]"
      ]
     },
     "execution_count": 37,
     "metadata": {},
     "output_type": "execute_result"
    }
   ],
   "source": [
    "#Retrieve every link from a page\n",
    "driver.find_elements_by_tag_name('a')"
   ]
  },
  {
   "cell_type": "code",
   "execution_count": null,
   "metadata": {},
   "outputs": [],
   "source": [
    "#Retrieve every link from a page\n",
    "browser.find_elements_by_tag_name('a')\n",
    "# Retrieve a link from a page that has \"likes\" in its text\n",
    "browser.find_element_by_partial_link_text('likes')"
   ]
  }
 ],
 "metadata": {
  "kernelspec": {
   "display_name": "Python 3",
   "language": "python",
   "name": "python3"
  },
  "language_info": {
   "codemirror_mode": {
    "name": "ipython",
    "version": 3
   },
   "file_extension": ".py",
   "mimetype": "text/x-python",
   "name": "python",
   "nbconvert_exporter": "python",
   "pygments_lexer": "ipython3",
   "version": "3.8.3"
  }
 },
 "nbformat": 4,
 "nbformat_minor": 4
}
